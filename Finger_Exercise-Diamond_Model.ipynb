{
 "cells": [
  {
   "cell_type": "markdown",
   "metadata": {},
   "source": [
    "# <font color=\"880000\"> Finger Exercise: Diamond Model </font> \n",
    "    "
   ]
  },
  {
   "cell_type": "markdown",
   "metadata": {},
   "source": [
    "## <font color=\"880000\"> Brad DeLong: The Finger-Exercise Cobb-Douglas Production Case</font>\n",
    "\n",
    "### <font color=\"000088\"> 1. The Zero-Uncertainty Case </font>\n",
    "\n",
    "Simplify the already-simple near-canonical model. Express all variables in per-worker values. Require that there be neither population growth nor technological progress. Require that there be time-separable log utility.\n",
    "\n",
    "Assume that the economy is populated by people who live for two periods, working when young, receiving profits from their savings when old, and consuming in both periods. Their utility function is:\n",
    "\n",
    ">(1.1) $ V = C_y + \\beta{\\ln(C_o)}  $\n",
    "\n",
    "where $ C_y $ is consumption when young, and $ C_o $ is consumption when old. Maximizing utility produces this consumption first-order condition for an agent young (\"y\") in period t and old (\"o\") in period t+1:\n",
    "\n",
    ">(1.2) $ 1 = {R^f}_t \\left[ \\frac{\\beta}{C_{o,t+1}} \\right] $\n",
    "\n",
    ">(1.3) $ C_{o,t+1} = \\beta R^f_t $"
   ]
  },
  {
   "cell_type": "markdown",
   "metadata": {},
   "source": [
    "Now let's add in a Cobb-Douglas production function, where a single worker's productivity is:\n",
    "\n",
    ">(1.4) $ Y_t = A K_t^\\alpha $\n",
    "\n",
    "The wage rate is:\n",
    "\n",
    ">(1.5) $ w_t = (1 - \\alpha) A K_t^\\alpha $\n",
    "\n",
    "The profit rate is:\n",
    "\n",
    ">(1.6) $ R^f_t = \\alpha A K_t^{(\\alpha -1)} $\n",
    "\n",
    "Using:\n",
    "\n",
    ">(1.7) $ C_{y,t} = w_t - K_{t+1} $\n",
    "\n",
    ">(1.8) $ C_{o,t+1} = R^f_t K_{t+1} = \\alpha A K_{t+1}^\\alpha $\n",
    "\n",
    "Substitute into the first order condition (1.3):\n",
    "\n",
    ">(1.9)  $ A \\alpha K_{t+1}^\\alpha = \\beta A \\alpha K_t^{(\\alpha -1)} $\n",
    "\n",
    "Then: \n",
    "\n",
    ">(1.10) $ K_{t+1} = \\beta^{(1/\\alpha)} K_t^{(1 - 1/\\alpha)} $\n",
    "\n",
    "And the attractor of the capital stock is the steady-state equilibrium:\n",
    "\n",
    ">(1.11) $ K^* = \\beta $\n",
    "\n",
    "In this steady-state equilibrium:\n",
    "\n",
    ">(1.12) $ R^{f*} = \\alpha A \\beta^{(\\alpha - 1)} $\n",
    "\n",
    ">(1.13) $ C^*_y = (1-\\alpha) A \\beta^\\alpha - \\beta $\n",
    "\n",
    ">(1.14) $ C^*_o = \\alpha A \\beta^\\alpha $\n",
    "\n",
    "And if $ \\alpha = \\frac{1}{2} $ and $ \\beta = \\frac{1}{4} $, then: $ K^* =  \\frac{1}{4}, R^{f*} = A, C^*_o = \\frac{A}{4} $, and $ C^*_y = \\frac{A - 1}{4} $ is the steady-state equilibrium. \n",
    "\n",
    "&nbsp;"
   ]
  },
  {
   "cell_type": "markdown",
   "metadata": {},
   "source": [
    "## <font color=\"880000\"> Thinking About Diamond Model Finger Exercises...</font>\n",
    "\n",
    "<img src=\"https://tinyurl.com/20190119a-delong\" width=\"300\" style=\"float:right\" />\n",
    "\n",
    "### <font color=\"000088\">Catch Our Breath—Further Notes:</font>\n",
    "\n",
    "<br clear=\"all\" />\n",
    "\n",
    "----\n",
    "\n",
    "* Weblog Support \n",
    "* nbViewer \n",
    "\n",
    "&nbsp;\n",
    "\n",
    "----"
   ]
  }
 ],
 "metadata": {
  "kernelspec": {
   "display_name": "Python 3",
   "language": "python",
   "name": "python3"
  },
  "language_info": {
   "codemirror_mode": {
    "name": "ipython",
    "version": 3
   },
   "file_extension": ".py",
   "mimetype": "text/x-python",
   "name": "python",
   "nbconvert_exporter": "python",
   "pygments_lexer": "ipython3",
   "version": "3.6.7"
  }
 },
 "nbformat": 4,
 "nbformat_minor": 2
}
